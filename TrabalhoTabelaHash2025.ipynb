{
  "nbformat": 4,
  "nbformat_minor": 0,
  "metadata": {
    "colab": {
      "provenance": [],
      "toc_visible": true,
      "authorship_tag": "ABX9TyPBF/qZhFxjE2785Tx4v+l7",
      "include_colab_link": true
    },
    "kernelspec": {
      "name": "python3",
      "display_name": "Python 3"
    },
    "language_info": {
      "name": "python"
    }
  },
  "cells": [
    {
      "cell_type": "markdown",
      "metadata": {
        "id": "view-in-github",
        "colab_type": "text"
      },
      "source": [
        "<a href=\"https://colab.research.google.com/github/Loys2603/TabelaHash/blob/main/TrabalhoTabelaHash2025.ipynb\" target=\"_parent\"><img src=\"https://colab.research.google.com/assets/colab-badge.svg\" alt=\"Open In Colab\"/></a>"
      ]
    },
    {
      "cell_type": "markdown",
      "source": [],
      "metadata": {
        "id": "3QVRY36Jeu7X"
      }
    },
    {
      "cell_type": "code",
      "source": [
        "class Nodo:\n",
        "    def __init__(self, sigla, nomeEstado):\n",
        "\n",
        "        self.sigla = sigla\n",
        "        self.nomeEstado = nomeEstado\n",
        "        self.proximo = None\n",
        "\n",
        "class TabelaHash:\n",
        "\n",
        "    def __init__(self):\n",
        "        self.tabela = [None] * 10\n",
        "\n",
        " # Tabela hash com 10 posições\n",
        "\n",
        "    def funcao_hash(self, sigla):\n",
        "\n",
        "        if sigla == \"DF\":\n",
        "            return 7\n",
        "        else:\n",
        "            return (ord(sigla[0]) + ord(sigla[1])) % 10\n",
        "\n",
        "    def inserir(self, sigla, nomeEstado):\n",
        "\n",
        "        indice = self.funcao_hash(sigla)\n",
        "        novo_nodo = Nodo(sigla, nomeEstado)\n",
        "        if not self.tabela[indice]:\n",
        "            self.tabela[indice] = novo_nodo\n",
        "\n",
        "        else:\n",
        "            novo_nodo.proximo = self.tabela[indice]\n",
        "            self.tabela[indice] = novo_nodo\n",
        "\n",
        "    def imprimir(self):\n",
        "\n",
        "        for i in range(10):\n",
        "            print(f\"Localização ---> {i}: \", end=\"\")\n",
        "            atual = self.tabela[i]\n",
        "            while atual:\n",
        "                print(f\"{atual.sigla} \", end=\"\")\n",
        "                atual = atual.proximo\n",
        "            print()\n",
        "\n",
        "# Adicionando os estados e Distrito Federal na tabela hash\n",
        "\n",
        "estados = [\n",
        "    (\"AC\", \"Acre\"), (\"AL\", \"Alagoas\"), (\"AP\", \"Amapá\"), (\"AM\", \"Amazonas\"), (\"BA\", \"Bahia\"),\n",
        "    (\"CE\", \"Ceará\"), (\"DF\", \"Distrito Federal\"), (\"ES\", \"Espírito Santo\"), (\"GO\", \"Goiás\"),\n",
        "    (\"MA\", \"Maranhão\"), (\"MT\", \"Mato Grosso\"), (\"MS\", \"Mato Grosso do Sul\"), (\"MG\", \"Minas Gerais\"),\n",
        "    (\"PA\", \"Pará\"), (\"PB\", \"Paraíba\"), (\"PR\", \"Paraná\"), (\"PE\", \"Pernambuco\"), (\"PI\", \"Piauí\"),\n",
        "    (\"RJ\", \"Rio de Janeiro\"), (\"RN\", \"Rio Grande do Norte\"), (\"RS\", \"Rio Grande do Sul\"),\n",
        "    (\"RO\", \"Rondônia\"), (\"RR\", \"Roraima\"), (\"SC\", \"Santa Catarina\"), (\"SP\", \"São Paulo\"),\n",
        "    (\"SE\", \"Sergipe\"), (\"TO\", \"Tocantins\")\n",
        "]\n",
        "\n",
        "tabela_hash = TabelaHash()\n",
        "\n",
        "# Exigência de Saída de Console 1: Impressão inicial da tabela hash\n",
        "\n",
        "print(\"+-----------------------------------+\")\n",
        "print(\"|      Tabela Hash Original         |\")\n",
        "print(\"+-----------------------------------+\")\n",
        "tabela_hash.imprimir()\n",
        "print()\n",
        "\n",
        "# Adicionando os estados na tabela hash\n",
        "\n",
        "for sigla, nome in estados:\n",
        "    tabela_hash.inserir(sigla, nome)\n",
        "\n",
        "# Exigência de Saída de Console 2: Impressão da tabela hash após inserir os estados\n",
        "\n",
        "print(\"+------------------------------------------+\")\n",
        "print(\"|Tabela Hash após introduzir todos  estados|\")\n",
        "print(\"+------------------------------------------+\")\n",
        "tabela_hash.imprimir()\n",
        "print()\n",
        "\n",
        "# Adicionando o estado fictício\n",
        "\n",
        "tabela_hash.inserir(\"LM\", \"Loys Santos Nascimento Monteiro\")\n",
        "\n",
        "# Exigência de Saída de Console 3: Impressão da tabela hash após inserir o estado fictício\n",
        "\n",
        "print(\"+-----------------------------------------------------------------+\")\n",
        "print(\"|Tabela Hash após introduzir o estado fictício há todos os estados|\")\n",
        "print(\"+---------------------------------------=-------------------------+\")\n",
        "tabela_hash.imprimir()"
      ],
      "metadata": {
        "colab": {
          "base_uri": "https://localhost:8080/"
        },
        "id": "jjIJVF14evPq",
        "outputId": "d65fec2e-bc3b-4b4c-f447-04a021d74d9c"
      },
      "execution_count": 4,
      "outputs": [
        {
          "output_type": "stream",
          "name": "stdout",
          "text": [
            "+-----------------------------------+\n",
            "|      Tabela Hash Original         |\n",
            "+-----------------------------------+\n",
            "Localização ---> 0: \n",
            "Localização ---> 1: \n",
            "Localização ---> 2: \n",
            "Localização ---> 3: \n",
            "Localização ---> 4: \n",
            "Localização ---> 5: \n",
            "Localização ---> 6: \n",
            "Localização ---> 7: \n",
            "Localização ---> 8: \n",
            "Localização ---> 9: \n",
            "\n",
            "+------------------------------------------+\n",
            "|Tabela Hash após introduzir todos  estados|\n",
            "+------------------------------------------+\n",
            "Localização ---> 0: SC RN MS GO \n",
            "Localização ---> 1: RO MT BA AL \n",
            "Localização ---> 2: SE PR MA ES AM AC \n",
            "Localização ---> 3: TO SP PI \n",
            "Localização ---> 4: RR \n",
            "Localização ---> 5: RS PA AP \n",
            "Localização ---> 6: RJ PB CE \n",
            "Localização ---> 7: DF \n",
            "Localização ---> 8: MG \n",
            "Localização ---> 9: PE \n",
            "\n",
            "+-----------------------------------------------------------------+\n",
            "|Tabela Hash após introduzir o estado fictício há todos os estados|\n",
            "+---------------------------------------=-------------------------+\n",
            "Localização ---> 0: SC RN MS GO \n",
            "Localização ---> 1: RO MT BA AL \n",
            "Localização ---> 2: SE PR MA ES AM AC \n",
            "Localização ---> 3: LM TO SP PI \n",
            "Localização ---> 4: RR \n",
            "Localização ---> 5: RS PA AP \n",
            "Localização ---> 6: RJ PB CE \n",
            "Localização ---> 7: DF \n",
            "Localização ---> 8: MG \n",
            "Localização ---> 9: PE \n"
          ]
        }
      ]
    }
  ]
}